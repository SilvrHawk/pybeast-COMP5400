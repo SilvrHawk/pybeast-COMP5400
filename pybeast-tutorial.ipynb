{
 "cells": [
  {
   "cell_type": "code",
   "execution_count": null,
   "metadata": {
    "vscode": {
     "languageId": "plaintext"
    }
   },
   "outputs": [],
   "source": [
    "import numpy as np\n",
    "import matplotlib.pyplot as plt\n",
    "import pickle"
   ]
  },
  {
   "cell_type": "markdown",
   "metadata": {},
   "source": [
    "**NOTE** \n",
    "\n",
    "*This is a Jupyter notebook which you can use to interact with PyBEAST. It is entirely up to you whether to use a Jupyter notebook, a Python Script or work directly in the PyBEAST GUI for coursework.*"
   ]
  },
  {
   "cell_type": "markdown",
   "metadata": {},
   "source": [
    "# PyBEAST Tutorial\n",
    "\n",
    "pyBEAST is a python implementation of Bioinspired Evolutionary Agent-based Simulation Toolkit (BEAST), an educational tool to help students to explore concepts of bio-inspired computing and game development. BEAST provides a modular framework that allows users to create and interact with simple objects and agents within a 2D environment. Agents could for example be representations of animals, robots, or other abstract objects.\n",
    "\n",
    "In BEAST, agents can be equiped with sensors that detect objects or other agents within their vicinity. Users can specify the control logic of these agents to determine how they respond to sensor stimuli. This flexibility allows users to design agents that display complex autonomous behaviours, such as obstacle avoidance, pathfinding and hunting."
   ]
  },
  {
   "cell_type": "markdown",
   "metadata": {},
   "source": [
    "### Running PyBEAST GUI"
   ]
  },
  {
   "cell_type": "markdown",
   "metadata": {},
   "source": [
    "In order to launch and display the PyBEAST GUI, start the app from within the container PyBEAST directory by running the following command in a Terminal:"
   ]
  },
  {
   "cell_type": "code",
   "execution_count": null,
   "metadata": {
    "vscode": {
     "languageId": "plaintext"
    }
   },
   "outputs": [],
   "source": [
    "python pybeast/beast.py"
   ]
  },
  {
   "cell_type": "markdown",
   "metadata": {},
   "source": [
    "A window like this will appear:\n",
    "\n",
    "\n",
    "<img src=\"gui.png\" alt=\"Alt Text\" width=\"1000\"/>"
   ]
  },
  {
   "cell_type": "markdown",
   "metadata": {},
   "source": [
    "To load a demo, you simply click on the *Demos* tab and select on of the four default demos available: Braitenber, Chase, EvoMouse, Mouse.\n",
    "\n",
    "An example of a Braitenberg demo is shown below:\n",
    "\n",
    "<img src=\"demos_tab.png\" alt=\"Alt Text\" width=\"1000\"/>"
   ]
  },
  {
   "cell_type": "markdown",
   "metadata": {},
   "source": [
    "Under the *Simulation* tab, you have differente options such as Pause, Resume, High Speed, Reset, which you can use in your demos. \n",
    "\n",
    "<img src=\"simulation_tab.png\" alt=\"Alt Text\" width=\"1000\"/>"
   ]
  },
  {
   "cell_type": "markdown",
   "metadata": {},
   "source": [
    "Running a demo generates a log file containing important information such as the current and total number of generations, average fitness, and other relevant details. This information is displayed in the Log Window. You can save the log file as a .pkl file if you go and click the *File* tab. You can select the location you want to save your log file. \n",
    "\n",
    "You can interact with the saved log file by loading it in a Jupyter Notebook or a Python script. Here’s an example:"
   ]
  },
  {
   "cell_type": "code",
   "execution_count": null,
   "metadata": {
    "vscode": {
     "languageId": "plaintext"
    }
   },
   "outputs": [],
   "source": [
    "# Load data\n",
    "filepath = 'population_fitness.pkl'\n",
    "\n",
    "with open(filepath, 'rb') as file:\n",
    "    data = pickle.load(file)\n",
    "\n",
    "# Your code goes here\n"
   ]
  },
  {
   "cell_type": "markdown",
   "metadata": {},
   "source": [
    "This allows you to analyze and visualize the log data programmatically."
   ]
  },
  {
   "cell_type": "markdown",
   "metadata": {},
   "source": [
    "### Modifying the code"
   ]
  },
  {
   "cell_type": "markdown",
   "metadata": {},
   "source": [
    "The PyBEAST GUI includes four built-in demos that users can modify. The code for these demos is located in: "
   ]
  },
  {
   "cell_type": "code",
   "execution_count": null,
   "metadata": {
    "vscode": {
     "languageId": "plaintext"
    }
   },
   "outputs": [],
   "source": [
    "/pybeast/demos/<name_of_demo>.py."
   ]
  },
  {
   "cell_type": "markdown",
   "metadata": {},
   "source": [
    "You can customize various aspects of these demos, including:\n",
    "- Simulation parameters\n",
    "- Agents\n",
    "- Sensors\n",
    "- Genetic algorithm. \n",
    "\n",
    "Let’s take a look at the Braitenberg demo and make some modifications to understand how the system works."
   ]
  },
  {
   "cell_type": "markdown",
   "metadata": {},
   "source": [
    "#### Simulation"
   ]
  },
  {
   "cell_type": "markdown",
   "metadata": {},
   "source": [
    "Demo simulations in BEAST are implemented as classes that inherit from the ```core.simulation.Simulation``` class. \n",
    "\n",
    "For example, the Braitenber Simulation class is structured as follows:"
   ]
  },
  {
   "cell_type": "code",
   "execution_count": null,
   "metadata": {
    "vscode": {
     "languageId": "plaintext"
    }
   },
   "outputs": [],
   "source": [
    "class BraitenbergSimulation(Simulation):\n",
    "    \"\"\"BraitenbergSimulation class representing a simulation with Braitenberg vehicles and dots.\"\"\"\n",
    "\n",
    "    def __init__(self):\n",
    "        \"\"\"Initialize a BraitenbergSimulation object.\"\"\"\n",
    "        super().__init__('Braitenberg')\n",
    "\n",
    "        # Simulation runs forever\n",
    "        self.SetTimeSteps(-1)\n",
    "\n",
    "    def BeginAssessment(self):\n",
    "\n",
    "        self.theWorld.Add(Braitenberg2a())\n",
    "        self.theWorld.Add(Braitenberg2b())\n",
    "\n",
    "        # Add Dots\n",
    "        positions = [(150.0, 100.0), (200.0, 100.0), (250.0, 100.0), (300.0, 100.0),\n",
    "                     (350.0, 100.0), (350.0, 150.0), (350.0, 200.0),\n",
    "                     (350.0, 250.0), (350, 300.0), (350.0, 350.0),\n",
    "                     (300.0, 350.0), (250.0, 350.0), (200.0, 350.0), (200.0, 400.0),\n",
    "                     (200.0, 450.0), (200.0, 500.0), (200.0, 550.0), (250.0, 550.0),\n",
    "                     (300.0, 550.0), (350.0, 550.0), (400.0, 550.0), (450.0, 550.0),\n",
    "                     (500.0, 550.0), (550.0, 550.0), (600.0, 550.0), (600.0, 500.0),\n",
    "                     (600.0, 450.0), (600.0, 400.0), (600.0, 350.0), (550.0, 350.0),\n",
    "                     (500.0, 350.0), (500.0, 300.0), (500.0, 250.0), (500.0, 200.0),\n",
    "                     (500.0, 150.0), (500.0, 100.0), (500.0, 50.0)]\n",
    "\n",
    "\n",
    "        for pos in positions:\n",
    "            self.theWorld.Add(Dot(Vector2D(pos[0], pos[1])))\n",
    "\n",
    "        super().BeginAssessment()"
   ]
  },
  {
   "cell_type": "markdown",
   "metadata": {},
   "source": [
    "In BEAST, simulations are structured into runs, generations, assessements and timesteps. After each assessment, the fitness score of each agent is recorded. In this case, the Braitenberg simulation is set to run infinetily (```self.SetTimeSteps(-1)```). But we can modify this by setting a specific number of runs, generations and assessments:"
   ]
  },
  {
   "cell_type": "code",
   "execution_count": null,
   "metadata": {
    "vscode": {
     "languageId": "plaintext"
    }
   },
   "outputs": [],
   "source": [
    "class BraitenbergSimulation(Simulation):\n",
    "    \"\"\"BraitenbergSimulation class representing a simulation with Braitenberg vehicles and dots.\"\"\"\n",
    "\n",
    "    def __init__(self):\n",
    "        \"\"\"Initialize a BraitenbergSimulation object.\"\"\"\n",
    "        super().__init__('Braitenberg')\n",
    "\n",
    "        # Simulation runs forever\n",
    "        self.SetRuns(1)\n",
    "        self.SetGenerations(1)\n",
    "        self.SetAssessments(1)\n",
    "        self.SetTimeSteps(100)\n",
    "\n",
    "    def BeginAssessment(self):\n",
    "\n",
    "        self.theWorld.Add(Braitenberg2a())\n",
    "        self.theWorld.Add(Braitenberg2b())\n",
    "\n",
    "        # Add Dots\n",
    "        positions = [(150.0, 100.0), (200.0, 100.0), (250.0, 100.0), (300.0, 100.0),\n",
    "                     (350.0, 100.0), (350.0, 150.0), (350.0, 200.0),\n",
    "                     (350.0, 250.0), (350, 300.0), (350.0, 350.0),\n",
    "                     (300.0, 350.0), (250.0, 350.0), (200.0, 350.0), (200.0, 400.0),\n",
    "                     (200.0, 450.0), (200.0, 500.0), (200.0, 550.0), (250.0, 550.0),\n",
    "                     (300.0, 550.0), (350.0, 550.0), (400.0, 550.0), (450.0, 550.0),\n",
    "                     (500.0, 550.0), (550.0, 550.0), (600.0, 550.0), (600.0, 500.0),\n",
    "                     (600.0, 450.0), (600.0, 400.0), (600.0, 350.0), (550.0, 350.0),\n",
    "                     (500.0, 350.0), (500.0, 300.0), (500.0, 250.0), (500.0, 200.0),\n",
    "                     (500.0, 150.0), (500.0, 100.0), (500.0, 50.0)]\n",
    "\n",
    "\n",
    "        for pos in positions:\n",
    "            self.theWorld.Add(Dot(Vector2D(pos[0], pos[1])))\n",
    "\n",
    "        super().BeginAssessment()"
   ]
  },
  {
   "cell_type": "markdown",
   "metadata": {},
   "source": [
    "Each ```Simulation``` instance has an attribute ```theWorld``` which is an instance of the ```core.world.world.World``` class representing the world the agents live in. Agents and objects must be added to the world at the start of each assessment, which is handeled by the `Simulation.BeginAssessment` method. In `BraitenbergSimulation.BeginAssessment`, we use the `World.Add` method to add the `Braitinberg` vehicles and the `Dot` objects to the simulation.\n",
    "    \n",
    "To save simulation outputs, we need to create data containers and tell the simulation object to save the the output variables of interest. The ```Simulation``` class allows user to create data containers at the beginning of a simulation, run, generation and assessment, by implementing the ```Simulation.CreateDataStructure...``` methods. We can populate these containers with simulation data from individual runs, generations, assessments or timesteps by implementing the ```Simulation.Save...``` methods.\n",
    "\n",
    "For example, we can create a new ```Braitenberg``` vehicle `breiti` as well as the methods ```CreateDataStructSimulation``` and ```SaveUpdate``` within the Braitenberg simulation to access and save features of the vehicle:"
   ]
  },
  {
   "cell_type": "code",
   "execution_count": null,
   "metadata": {
    "vscode": {
     "languageId": "plaintext"
    }
   },
   "outputs": [],
   "source": [
    "class BraitenbergSimulation(Simulation):\n",
    "    \"\"\"BraitenbergSimulation class representing a simulation with Braitenberg vehicles and dots.\"\"\"\n",
    "\n",
    "    def __init__(self):\n",
    "        \"\"\"Initialize a BraitenbergSimulation object.\"\"\"\n",
    "        super().__init__('Braitenberg')\n",
    "\n",
    "        # Simulation runs forever\n",
    "        self.SetRuns(1)\n",
    "        self.SetGenerations(1)\n",
    "        self.SetAssessments(1)\n",
    "        self.SetTimeSteps(100)\n",
    "\n",
    "        self.breiti = BraitenbergVehicle()\n",
    "\n",
    "    def BeginAssessment(self):\n",
    "\n",
    "        self.theWorld.Add(Braitenberg2a())\n",
    "        self.theWorld.Add(Braitenberg2b())\n",
    "\n",
    "        # Add Dots\n",
    "        positions = [(150.0, 100.0), (200.0, 100.0), (250.0, 100.0), (300.0, 100.0),\n",
    "                     (350.0, 100.0), (350.0, 150.0), (350.0, 200.0),\n",
    "                     (350.0, 250.0), (350, 300.0), (350.0, 350.0),\n",
    "                     (300.0, 350.0), (250.0, 350.0), (200.0, 350.0), (200.0, 400.0),\n",
    "                     (200.0, 450.0), (200.0, 500.0), (200.0, 550.0), (250.0, 550.0),\n",
    "                     (300.0, 550.0), (350.0, 550.0), (400.0, 550.0), (450.0, 550.0),\n",
    "                     (500.0, 550.0), (550.0, 550.0), (600.0, 550.0), (600.0, 500.0),\n",
    "                     (600.0, 450.0), (600.0, 400.0), (600.0, 350.0), (550.0, 350.0),\n",
    "                     (500.0, 350.0), (500.0, 300.0), (500.0, 250.0), (500.0, 200.0),\n",
    "                     (500.0, 150.0), (500.0, 100.0), (500.0, 50.0)]\n",
    "\n",
    "\n",
    "        for pos in positions:\n",
    "            self.theWorld.Add(Dot(Vector2D(pos[0], pos[1])))\n",
    "\n",
    "        super().BeginAssessment()\n",
    "    \n",
    "    def CreateDataStructSimulation(self):\n",
    "        \n",
    "        self.locations, self.velocities, self.times = [], [], []\n",
    "\n",
    "    def SaveUpdate(self):\n",
    "\n",
    "        self.locations.append((self.breiti.location.x, self.breiti.location.y))\n",
    "        self.velocities.append(self.breiti.velocity.GetLength())\n",
    "        self.times.append(self.timeStep) "
   ]
  },
  {
   "cell_type": "markdown",
   "metadata": {},
   "source": [
    "In the `BraitenbergSimulation` class,  `CreateDataStructureSimulation` initializes two lists `self.locations` and `self.velocities`, to store the vehicle's location and velocity during the simulation. The ```BraitenbergSimulation.SaveUpdate``` method is called after each time step to append the vehicle's current location and velocity to the ```self.locations``` and ```self.velocities``` lists."
   ]
  },
  {
   "cell_type": "markdown",
   "metadata": {},
   "source": [
    "We can now access the position and velocity of the ```breiti``` vehicle like this:"
   ]
  },
  {
   "cell_type": "code",
   "execution_count": null,
   "metadata": {
    "vscode": {
     "languageId": "plaintext"
    }
   },
   "outputs": [],
   "source": [
    "# vehicle coordinates\n",
    "x_arr = [vec[0] for vec in simulation.locations]\n",
    "y_arr = [vec[1] for vec in simulation.locations]\n",
    "\n",
    "# simulation time\n",
    "time = simulation.times\n",
    "# vehicle velocity as a function of time\n",
    "velocity = simulation.velocities"
   ]
  },
  {
   "cell_type": "markdown",
   "metadata": {},
   "source": [
    "#### Agents"
   ]
  },
  {
   "cell_type": "markdown",
   "metadata": {},
   "source": [
    "By default, all agents in BEAST have sensors and motors. Braitenberg vehicles are named after the Italian cyberneticist Valentino Braitenberg. A Braitenberg vehicle has two sensors and two wheels, each driven by its own motor. \n",
    "\n",
    "In the Braitenberg demo, agents are constructed in class ```Braitenberg(Animat)```. This is where you can modify sensors, motors, control."
   ]
  },
  {
   "cell_type": "markdown",
   "metadata": {},
   "source": [
    "In addition, in the constructor ```Braitenberg.__init__```, we set the vehicle's values for its maximum speed, minimum speed, its radius (or size), and maximum rotation speed. \n",
    "\n",
    "Let's initialize a brand new Braitenberg vehicle:"
   ]
  },
  {
   "cell_type": "code",
   "execution_count": null,
   "metadata": {
    "vscode": {
     "languageId": "plaintext"
    }
   },
   "outputs": [],
   "source": [
    "braiti = BraitenbergVehicle()\n",
    "braiti.Init()"
   ]
  },
  {
   "cell_type": "markdown",
   "metadata": {},
   "source": [
    "The current location and orientation on an animat can be accessed via"
   ]
  },
  {
   "cell_type": "code",
   "execution_count": null,
   "metadata": {
    "vscode": {
     "languageId": "plaintext"
    }
   },
   "outputs": [],
   "source": [
    "braiti.location, braiti.orientation"
   ]
  },
  {
   "cell_type": "markdown",
   "metadata": {},
   "source": [
    "By default, the world's origin (0, 0) of the coordinate system is located at the bottom-left corner of the world. Therefore, the x and y coordinate of an animat must be larger than 0 and smaller than the world's width and height, respectively. By default, the world has periodic boundaries, i.e. when an animat crosses one of the world boundaries it reappears on the opposite side.\n",
    "\n",
    "The x and y coordinate of the vehicle's current location"
   ]
  },
  {
   "cell_type": "code",
   "execution_count": null,
   "metadata": {
    "vscode": {
     "languageId": "plaintext"
    }
   },
   "outputs": [],
   "source": [
    "braiti.location.x, braiti.location.y "
   ]
  },
  {
   "cell_type": "markdown",
   "metadata": {},
   "source": [
    "are equivalent to its start location specified in ```Breitenberg.__init__```.\n",
    "\n",
    "To change the vehicle's position, we need to actuate its motors. Each animat has a left and a right wheel, each powered by its own motor. To actuate these motors, we set values in the ```Animat.control``` dictionary"
   ]
  },
  {
   "cell_type": "code",
   "execution_count": null,
   "metadata": {
    "vscode": {
     "languageId": "plaintext"
    }
   },
   "outputs": [],
   "source": [
    "braiti.controls"
   ]
  },
  {
   "cell_type": "markdown",
   "metadata": {},
   "source": [
    "Control values for the left and right wheels should range from 0.0 to 1.0. With both controls set to zero, the animat moves straight at its minimum speed (zero by default). With both controls set to one, it moves straight at maximum speed. If the control values differ, the animat will turn in the direction of the larger control value. The minimum and maximum speeds can be accessed through the ```minSpeed``` and ```maxSpeed``` attributes."
   ]
  },
  {
   "cell_type": "code",
   "execution_count": null,
   "metadata": {
    "vscode": {
     "languageId": "plaintext"
    }
   },
   "outputs": [],
   "source": [
    "braiti.minSpeed, braiti.maxSpeed"
   ]
  },
  {
   "cell_type": "markdown",
   "metadata": {},
   "source": [
    "The animat's control values during a simulation are set by the ```Animat.Control``` method, which is called during each time step of the simulation to update the values in the ```Animat.controls``` dictionary. Using these values and the animat's previous position and orientation, the animat's new position and orientation are calculated. For more details, refer to the implementation of the ```Animat.Update``` method."
   ]
  },
  {
   "cell_type": "markdown",
   "metadata": {},
   "source": [
    "#### Sensors"
   ]
  },
  {
   "cell_type": "markdown",
   "metadata": {},
   "source": [
    "By default, any agent that inherits from the ```core.agents.animat.Animat``` can be equipped with sensors. BEAST provides a variety of predefined sensors that can be instantiated using the functions provided in the ```core.sensors.sensor``` module. User can create their own customized sensors by inherting from the ```core.sensors.sensorbase.Sensor``` base class.\n",
    "\n",
    "In BEAST, sensors are type sensitive, i.e. they only detect agents or objects of a desired type. Specifically, the ```Sensor``` class has a ```MatchFunc``` attribute, a callable responsible for type checking. Whenever an agent or object of the desired type is detected, the ```Sensor.EvalFunc``` is called, which updates the sensor's internal state. At any time, a sensor's output can be retrieved using the ```Sensor.GetOutput``` method. The sensor's output is filtered by the ```Sensor.ScalFunc``` attribute, which is a callable that scales the output to a desired value range, typically from -1 to 1.\n",
    "\n",
    "In the Braitenberg demo, we use the ```ProximitySensor```:"
   ]
  },
  {
   "cell_type": "markdown",
   "metadata": {},
   "source": [
    "The proximity sensor as well as the nearest angle sensor are two useful sensors available in BEAST. Let's look at them in detail:\n",
    "\n",
    "**Proximity Sensor**\n",
    "\n",
    "The proximity sensor functions as a beam sensor that detects objects or agents in given scope and range. Let's consider the following example to introduce this type of sensor:"
   ]
  },
  {
   "cell_type": "code",
   "execution_count": null,
   "metadata": {
    "vscode": {
     "languageId": "plaintext"
    }
   },
   "outputs": [],
   "source": [
    "from pybeast.core.agents.animat import Animat\n",
    "from pybeast.core.sensors.sensor import ProximitySensor\n",
    "\n",
    "class BraitenbergVehicle(Animat):\n",
    "\n",
    "    def __init__(self):\n",
    "    \n",
    "        super().__init__()\n",
    "\n",
    "        leftSensor = ProximitySensor(BraitenbergVehicle, scope = np.pi/3.5, range = 200.0, orientation=np.pi/6, simple=True)\n",
    "        rightSensor = ProximitySensor(BraitenbergVehicle, scope = np.pi/3.5, range = 200.0, orientation=-np.pi/6, simple=True) \n",
    "        \n",
    "        self.AddSensor('left', leftSensor)\n",
    "        self.AddSensor('right', rightSensor)\n",
    "\n",
    "        self.SetInteractionRange(200.0)\n",
    "\n",
    "        self.SetSolid(False)\n",
    "        self.SetMaxSpeed(100.0)\n",
    "        self.SetMinSpeed(0.0)\n",
    "        self.SetRadius(10.0)\n",
    "        self.SetMaxRotationSpeed(2*np.pi)\n",
    "\n",
    "    \n",
    "    def Control(self):\n",
    "\n",
    "        lOutput = self.sensors['left'].GetOutput()\n",
    "        rOutput = self.sensors['right'].GetOutput()\n",
    "        \n",
    "        self.controls[\"left\"]  = 1.0 - lOutput\n",
    "        self.controls[\"right\"] = 1.0 - rOutput"
   ]
  },
  {
   "cell_type": "markdown",
   "metadata": {},
   "source": [
    "In ```BraitenbergVehicle.__init__``` method, we call the ```ProximitySensor``` function to create two beam sensors. As the first argument, we pass a reference to ```BraitenbergVehicle class```, i.e. the sensor detect other Braitenberg vehicles. The scope of each sensor is set to $\\pi/4$ (45 degrees), and the range is set to 200. Note that sensor range should be defined relative to the world's dimensions, which bey defauly are 800 width and 600 height. The ```leftSensor``` is oriented relative to vehicle's orientation at $+\\pi/8$ (25 degrees), i.e. it covers the vehicle's left field of vision. The ```rightSensor``` is oriented realtive to vehicle's orientation at $-\\pi/8$, i.e. it covers the vehicle's right field of vision. After instantiation, the left and right sensor are added to the vehicle using the ```Animat.AddSensor``` method. "
   ]
  },
  {
   "cell_type": "markdown",
   "metadata": {},
   "source": [
    "The sensors of an agent that inherits from the ```Animat``` class can be accessed via the ```Animat.sensors``` attribute"
   ]
  },
  {
   "cell_type": "code",
   "execution_count": null,
   "metadata": {
    "vscode": {
     "languageId": "plaintext"
    }
   },
   "outputs": [],
   "source": [
    "braiti.sensors"
   ]
  },
  {
   "cell_type": "markdown",
   "metadata": {},
   "source": [
    "which is a dicitonary of name sensor pairs. The output of a sensor can be retrieved using the ```Sensor.GetOutput``` method:"
   ]
  },
  {
   "cell_type": "code",
   "execution_count": null,
   "metadata": {
    "vscode": {
     "languageId": "plaintext"
    }
   },
   "outputs": [],
   "source": [
    "braiti.sensors['left'].GetOutput(), braiti.sensors['right'].GetOutput() "
   ]
  },
  {
   "cell_type": "markdown",
   "metadata": {},
   "source": [
    "**Nearest Angle Sensor**\n",
    "\n",
    "The nearest angle sensor detects the relative angle to the closest agent or object that matches a specified type. It functions like a beam sensor with 360-degree scope. To demonstrate the nearest angle sensor in action, we define a ```Pacman``` class, modeled as a Braitenberg vehicle, that can detect and eat ```Sweet``` objects. We can create custom inanimate objects by creating a new class that inherits from the ```core.world.worldobject.WorldObject``` base class."
   ]
  },
  {
   "cell_type": "code",
   "execution_count": null,
   "metadata": {
    "vscode": {
     "languageId": "plaintext"
    }
   },
   "outputs": [],
   "source": [
    "from pybeast.core.world.worldobject import WorldObject\n",
    "from pybeast.core.sensors.sensor import NearestAngleSensor\n",
    "from pybeast.core.utils.colours import ColourPalette, ColourType\n",
    "\n",
    "class Sweet(WorldObject):\n",
    "    \"\"\"Represents a sweet object.\"\"\"\n",
    "\n",
    "    def __init__(self):\n",
    "        \"\"\"Initialize a new Sweet object.\"\"\"\n",
    "        super().__init__()\n",
    "        self.SetRadius(10.0)\n",
    "        self.SetColour(*ColourPalette[ColourType.COLOUR_YELLOW])\n",
    "\n",
    "    def Eaten(self):\n",
    "        \"\"\"Handle the event when the sweet is eaten.\"\"\"\n",
    "        self.SetDead(True)"
   ]
  },
  {
   "cell_type": "markdown",
   "metadata": {},
   "source": [
    "By default, world objects are initialized with a random position. Unlike the ```Animat``` class, the ```WorldObject``` does not implement a default ```Update``` method, meaning these objects remain stationary unless you explicitly define movement by implementing their ```Update``` method. The constructor ```Sweet.__init__``` sets the Sweet's radius to 10.0 and its color to yellow. The ```Sweet.Eaten``` method is called from within the ```Pacman``` class whenever a collision with a ```Sweet``` object occurs. This method sets the dead attribute to ```True```, preventing the object from being displayed. With the ```Sweet``` class implemented, let's move on to defining the ```Pacman``` class."
   ]
  },
  {
   "cell_type": "code",
   "execution_count": null,
   "metadata": {
    "vscode": {
     "languageId": "plaintext"
    }
   },
   "outputs": [],
   "source": [
    "class Pacman(Animat):\n",
    "\n",
    "    def __init__(self, numberSweet):\n",
    "    \n",
    "        super().__init__()\n",
    "\n",
    "        self.numberSweet = numberSweet\n",
    "        \n",
    "        sensorRange = 400.0\n",
    "        angleSensor = NearestAngleSensor(Sweet, range = sensorRange)\n",
    "        \n",
    "        self.AddSensor('angle', angleSensor)        \n",
    "        self.SetInteractionRange(sensorRange)\n",
    "\n",
    "        self.SetSolid(False)\n",
    "        self.SetMaxSpeed(100.0)\n",
    "        self.SetMinSpeed(0.0)\n",
    "        self.SetRadius(10.0)\n",
    "\n",
    "        self.sweetEaten = 0\n",
    "    \n",
    "    def Control(self):\n",
    "        \n",
    "        o = self.sensors['angle'].GetOutput()\n",
    "\n",
    "        if self.sweetEaten < self.numberSweet:    \n",
    "            self.controls[\"left\"] = 0.5 + 0.5*o \n",
    "            self.controls[\"right\"] = 0.5 - 0.5*o    \n",
    "        else:\n",
    "            self.controls[\"left\"] = 0.0\n",
    "            self.controls[\"right\"] = 0.0\n",
    "\n",
    "    def OnCollision(self, other):\n",
    "\n",
    "        if type(other) == Sweet:\n",
    "            self.myWorld.mySimulation.logger.info('Yummy, sweet!')\n",
    "            other.Eaten()\n",
    "            self.sweetEaten += 1 \n",
    "\n",
    "            if self.sweetEaten == self.numberSweet:\n",
    "                self.myWorld.mySimulation.logger.info('I have eaten all the sweets')"
   ]
  },
  {
   "cell_type": "markdown",
   "metadata": {},
   "source": [
    "For the ```Pacman``` class, we followed a similar template to the ```BraitenbergVehicle``` class. The constructor ```Pacman.__init__``` instantiates a nearest angle sensor that detects objects of type ```Sweet``` and adds it to the Pacman. The nearest angle sensor outputs the relative angle of the closest object of the specified type within its detection range. Objects in the sensor's left field of vision correspond to angles between 0 and 180 degrees, while objects in the right field of vision have angles ranging from 0 to -180 degrees. The sensor's ```ScalFunc``` scales these angles to a value range from [-1, 1].\n",
    "\n",
    "To enable our Pacman to eat the Sweet, we need to implement the ```Animat.OnCollision``` method, which is called whenever an animat collides with another object or agent in the world. In ```Pacman.OnCollision```, we first check if the object or agent the Pacman collided with is of type ```Sweet```. If it is, we call the ```Sweet.Eaten``` method and increase the Pacman's count of eaten Sweet by one."
   ]
  },
  {
   "cell_type": "markdown",
   "metadata": {},
   "source": [
    "#### Evolving Agents"
   ]
  },
  {
   "cell_type": "markdown",
   "metadata": {},
   "source": [
    "BEAST uses genetic algorithms to train agents to perform tasks. A genetic algorithm (GA) is a method for solving optimization problems that is inspired by biological evolution.\n",
    "\n",
    "\n",
    "\n",
    "Every evolvable agent in BEAST has a genome. The genome is implemented using ```Evolver.GetGenotype``` and ```Evolver.SetGenotype``` methods which inherit from the ```core.evolver.Evolver``` class.\n",
    "\n",
    "BEAST predefines several evovable agents, which can be found in the ```core.agents.neuralanimat``` module. The agent classes in the ```neuralanimat``` module implement a neural network, referred to as the agent's brain, that controls the agent's behaviour. As the `brain' of the agent is the only elemet of it being evolved, to modify the neural network, or the genome, you need to modify the ```neuralanimat```.\n",
    "\n",
    "The output values generated by the agent's brain (neural network) for a given sensor input will depend on the network's weights and biases. Hence, BEAST defines the agent's genome as the list of all the weights biases that constitute the agent's brain. This means that the genetic aglorithm aims to optimize the connection's in the agent's brain to the achieve optimal control for a given task.\n",
    "\n",
    "To effectively train a population of agents, we need to define a performance metric which allows us to compare the performance of different agents. The performance metric is commonly referred to as the agent's fitness. Recall that in BEAST, simulations consist of runs, generations and assessments . After each generation, the genetic algorithm randomly selects pairs of individuals called parents. Agents that achieve higher fitness scores during the assessments will be selected with a higher probability. Once a pair of parents is selected, the genetic algorithm combines their genomes to generate a new pair of agents referred to as children. This combination process involves random crossovers and mutations of the parent genomes which will be explained later. GAs generates as many children as there were agents in the parent generation, i.e. the algorithm conserves the number of agents in the population.\n"
   ]
  },
  {
   "cell_type": "markdown",
   "metadata": {},
   "source": [
    "In the contstructor ```EvoMouse.__init__```, we add a nearest angle sensor and a brain to the mouse using the ```Animat.AddSensor``` and the ```EvoFFNAnimat.AddFFNBrain``` methods. The brain (neural network) can be accessed via ```myBrain``` attribute"
   ]
  },
  {
   "cell_type": "code",
   "execution_count": null,
   "metadata": {
    "vscode": {
     "languageId": "plaintext"
    }
   },
   "outputs": [],
   "source": [
    "myEvoMouse = EvoMouse()\n",
    "myEvoMouse.Init()\n",
    "\n",
    "myEvoMouse.myBrain"
   ]
  },
  {
   "cell_type": "markdown",
   "metadata": {},
   "source": [
    "which is a instance of ```core.control.feedforwardnet.FeedForwardNet```. In addition to simple feed-forward networks, BEAST also supports continuous-time recurrent neural networks (CTRNNs) which can be accessed by inherting from the ```core.agents.neuralanimat.EvoDNNAnimat``` class.\n",
    "\n",
    "A ```FeedForwardNet``` conists of an input layer, a hidden layer and an output layer. The number of neurons within each layer can be accessed via the attributes. "
   ]
  },
  {
   "cell_type": "code",
   "execution_count": null,
   "metadata": {
    "vscode": {
     "languageId": "plaintext"
    }
   },
   "outputs": [],
   "source": [
    "myEvoMouse.myBrain.inputs, myEvoMouse.myBrain.hidden, myEvoMouse.myBrain.outputs,"
   ]
  },
  {
   "cell_type": "markdown",
   "metadata": {},
   "source": [
    "By default, the number of inputs to the network is equal to the number of the animat's sensors. The number of neurons in the hidden layer can be controlled by passing an input ```hidden``` argument to the ```EvoFFNAnimat.AddFFNBrain``` method which can be set to 0 or a positive integer. The number of neurons in the output layer defaults to the number of agent's control values, which is two."
   ]
  },
  {
   "cell_type": "code",
   "execution_count": null,
   "metadata": {
    "vscode": {
     "languageId": "plaintext"
    }
   },
   "outputs": [],
   "source": [
    "myEvoMouse.controls"
   ]
  },
  {
   "cell_type": "markdown",
   "metadata": {},
   "source": [
    "The output values that the agent's brain generates for a given input will depend on the neural network's weights, biases and activation function. By default, the network uses a sigmoidal activation function which constrains the output values to a range from -1.0 to 1.0. Weights and biases are initialized randomly within the range -1.0 to 1.0. The current values of the weights and biases can be accessed using the ```FeedForwardNet.GetConfiguration``` method."
   ]
  },
  {
   "cell_type": "code",
   "execution_count": null,
   "metadata": {
    "vscode": {
     "languageId": "plaintext"
    }
   },
   "outputs": [],
   "source": [
    "conifguration = myEvoMouse.myBrain.GetConfiguration()"
   ]
  },
  {
   "cell_type": "markdown",
   "metadata": {},
   "source": [
    "which returns the configuration dictionary. Weights and biases of the hidden and output layer can accessed via"
   ]
  },
  {
   "cell_type": "code",
   "execution_count": null,
   "metadata": {
    "vscode": {
     "languageId": "plaintext"
    }
   },
   "outputs": [],
   "source": [
    "conifguration['hidden'] \n",
    "# AND\n",
    "conifguration['output']"
   ]
  },
  {
   "cell_type": "markdown",
   "metadata": {},
   "source": [
    "The ```EvoFFNAnimat``` class defines the genome as the list of weights and biases that consitute its brain. The genome can be accessed by using the ```GetGenotype``` method"
   ]
  },
  {
   "cell_type": "code",
   "execution_count": null,
   "metadata": {
    "vscode": {
     "languageId": "plaintext"
    }
   },
   "outputs": [],
   "source": [
    "myEvoMouse.GetGenotype()"
   ]
  },
  {
   "cell_type": "markdown",
   "metadata": {},
   "source": [
    "For example, for a feed-forward network with one input, four hidden neurons and two output neurons, we expect a total number of 18 weights and biases"
   ]
  },
  {
   "cell_type": "code",
   "execution_count": null,
   "metadata": {
    "vscode": {
     "languageId": "plaintext"
    }
   },
   "outputs": [],
   "source": [
    "len(myEvoMouse.GetGenotype())"
   ]
  },
  {
   "cell_type": "markdown",
   "metadata": {},
   "source": [
    "### Extra Information"
   ]
  },
  {
   "cell_type": "markdown",
   "metadata": {},
   "source": [
    "**Running simulations from Jupyter Notebook and/or a Python script without displaying it on the PyBEAST GUI.**"
   ]
  },
  {
   "cell_type": "markdown",
   "metadata": {},
   "source": [
    "For example, let's take the ```EvoMouseSimulation``` class from the EvoMouse demo:"
   ]
  },
  {
   "cell_type": "code",
   "execution_count": null,
   "metadata": {
    "vscode": {
     "languageId": "plaintext"
    }
   },
   "outputs": [],
   "source": [
    "from pybeast.core.simulation import Simulation\n",
    "from pybeast.core.evolve.geneticalgorithm import GeneticAlgorithm, GASelectionType\n",
    "from pybeast.core.evolve.population import Group, Population\n",
    "\n",
    "class EvoMouseSimulation(Simulation):\n",
    "    \"\"\"Represents a simulation with mice and cheese.\"\"\"\n",
    "\n",
    "    def __init__(self):\n",
    "        \"\"\"Initialize a new MouseSimulation.\"\"\"\n",
    "        super().__init__('Mouse')\n",
    "\n",
    "        # Simulation runs for 100 generations\n",
    "        self.SetGenerations(100)\n",
    "        # One assessment per generation\n",
    "        self.SetAssessments(1)\n",
    "        # Each assessment runs for 500 timesteps\n",
    "        self.SetTimeSteps(500)\n",
    "\n",
    "        popSize = 30\n",
    "        self.theGA = GeneticAlgorithm( 0.25,0.1, selection = GASelectionType.GA_ROULETTE)\n",
    "\n",
    "        self.theGA.SetSelection(GASelectionType.GA_ROULETTE)\n",
    "        self.Add('theMice', Population(popSize, EvoMouse, self.theGA))\n",
    "        self.Add('thecheese', Group(popSize, Cheese))\n",
    "\n",
    "        self.sleepBetweenLogs = 0.0\n",
    "\n",
    "        for k in ['Simulation', 'Run', 'Generation']: #, 'Assessment', 'Update']:\n",
    "            self.whatToLog[k] = True\n",
    "\n",
    "        self.whatToSave['Simulation'] = self.whatToSave['Run'] = self.whatToSave['Generation'] = True\n",
    "\n",
    "    def LogEndGeneration(self):\n",
    "\n",
    "        super().LogEndGeneration()\n",
    "        self.logger.info(f'Average fitness {self.avgFitness:.5f}')\n",
    "\n",
    "    def CreateDataStructSimulation(self):\n",
    "        self.data = {}\n",
    "\n",
    "    def CreateDataStructRun(self):\n",
    "        self.averageFitness = []\n",
    "\n",
    "    def SaveGeneration(self):\n",
    "\n",
    "        self.avgFitness = np.mean(self.contents['theMice'].AverageFitnessScoreOfMembers())\n",
    "        self.averageFitness.append(self.avgFitness)\n",
    "\n",
    "        return\n",
    "\n",
    "    def SaveRun(self):\n",
    "\n",
    "        self.data[f'Run{self.Run}'] = self.averageFitness"
   ]
  },
  {
   "cell_type": "markdown",
   "metadata": {},
   "source": [
    "You can run the simulation as follows:"
   ]
  },
  {
   "cell_type": "code",
   "execution_count": null,
   "metadata": {
    "vscode": {
     "languageId": "plaintext"
    }
   },
   "outputs": [],
   "source": [
    "simulation = EvoMouseSimulation()\n",
    "simulation.RunSimulation(render=False)"
   ]
  },
  {
   "cell_type": "markdown",
   "metadata": {},
   "source": [
    "You access the simulation data and plot, for example, the population's fitness across generations. "
   ]
  },
  {
   "cell_type": "code",
   "execution_count": null,
   "metadata": {
    "vscode": {
     "languageId": "plaintext"
    }
   },
   "outputs": [],
   "source": [
    "simulation.SetRuns(2)\n",
    "simulation.SetGenerations(50)\n",
    "simulation.RunSimulation(render=False)\n",
    "\n",
    "for i in range(simulation.Runs):\n",
    "    averageFitness = simulation.data[f'Run{i}']\n"
   ]
  },
  {
   "cell_type": "markdown",
   "metadata": {},
   "source": [
    "**Creating your own demos and add them to the PyBEAST GUI**"
   ]
  },
  {
   "cell_type": "markdown",
   "metadata": {},
   "source": [
    "If you want to build your own custom demo in PyBEAST, you need to include specific variables in your demo script."
   ]
  },
  {
   "cell_type": "code",
   "execution_count": null,
   "metadata": {
    "vscode": {
     "languageId": "plaintext"
    }
   },
   "outputs": [],
   "source": [
    "IsDemo = True\n",
    "GUIName = 'MyOwnChaseDemo'\n",
    "SimClassName = 'ChaseSimulation'"
   ]
  },
  {
   "cell_type": "markdown",
   "metadata": {},
   "source": [
    "By doing so, you can create and launch any number of unique simulations within the PyBEAST GUI, customizing the agents behaviours, sensors, and genetic algorithms to fit your needs."
   ]
  }
 ],
 "metadata": {
  "language_info": {
   "name": "python"
  }
 },
 "nbformat": 4,
 "nbformat_minor": 2
}
